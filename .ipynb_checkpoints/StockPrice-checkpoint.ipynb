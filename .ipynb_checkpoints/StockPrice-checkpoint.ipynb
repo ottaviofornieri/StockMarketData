{
 "cells": [
  {
   "cell_type": "code",
   "execution_count": 1,
   "id": "38dd4b72",
   "metadata": {},
   "outputs": [
    {
     "data": {
      "text/html": [
       "        <script type=\"text/javascript\">\n",
       "        window.PlotlyConfig = {MathJaxConfig: 'local'};\n",
       "        if (window.MathJax && window.MathJax.Hub && window.MathJax.Hub.Config) {window.MathJax.Hub.Config({SVG: {font: \"STIX-Web\"}});}\n",
       "        if (typeof require !== 'undefined') {\n",
       "        require.undef(\"plotly\");\n",
       "        requirejs.config({\n",
       "            paths: {\n",
       "                'plotly': ['https://cdn.plot.ly/plotly-2.20.0.min']\n",
       "            }\n",
       "        });\n",
       "        require(['plotly'], function(Plotly) {\n",
       "            window._Plotly = Plotly;\n",
       "        });\n",
       "        }\n",
       "        </script>\n",
       "        "
      ]
     },
     "metadata": {},
     "output_type": "display_data"
    }
   ],
   "source": [
    "import numpy as np\n",
    "import matplotlib\n",
    "import matplotlib.pyplot as plt\n",
    "import matplotlib.ticker as mticker\n",
    "from matplotlib import rc, rcParams\n",
    "f = mticker.ScalarFormatter(useMathText=True)\n",
    "\n",
    "import scipy\n",
    "import pandas as pd\n",
    "import yfinance as yf\n",
    "from yahoofinancials import YahooFinancials\n",
    "from datetime import datetime as dt\n",
    "from datetime import date, timedelta\n",
    "import datetime\n",
    "from matplotlib.dates import YearLocator, DateFormatter\n",
    "\n",
    "import plotly.graph_objs as go\n",
    "from plotly.offline import plot\n",
    "\n",
    "#for offline plotting\n",
    "from plotly.offline import download_plotlyjs, init_notebook_mode, plot, iplot\n",
    "init_notebook_mode(connected=True)"
   ]
  },
  {
   "cell_type": "code",
   "execution_count": 2,
   "id": "55c041ca",
   "metadata": {},
   "outputs": [],
   "source": [
    "###############\n",
    "# LaTeX block #\n",
    "###############\n",
    "\n",
    "rc('text', usetex=True)\n",
    "rc('font',**{'family':'serif','serif':['Palatino']})\n",
    "rc('xtick', labelsize=18)\n",
    "rc('ytick', labelsize=18)\n",
    "rcParams['legend.numpoints'] = 1"
   ]
  },
  {
   "cell_type": "code",
   "execution_count": 3,
   "id": "2d4289ce",
   "metadata": {},
   "outputs": [],
   "source": [
    "def plot_cosmetics_single():\n",
    "    \n",
    "    ax = plt.gca()\n",
    "    ax.tick_params(direction='in', axis='both', which='major', length=6.5, width=1.2, labelsize=18)\n",
    "    ax.tick_params(direction='in', axis='both', which='minor', length=3., width=1.2, labelsize=18)\n",
    "    ax.xaxis.set_tick_params(pad=7)\n",
    "    ax.xaxis.labelpad = 5\n",
    "    ax.yaxis.labelpad = 15\n",
    "    \n",
    "    \n",
    "def plot_cosmetics_multi():    \n",
    "    \n",
    "    ax = plt.gca()\n",
    "    ax.tick_params(direction='in', axis='both', which='major', length=6.5, width=1.2, labelsize=20)\n",
    "    ax.tick_params(direction='in', axis='both', which='minor', length=3., width=1.2, labelsize=20)\n",
    "    ax.xaxis.set_tick_params(pad=10)\n",
    "    ax.xaxis.labelpad = 5\n",
    "    ax.yaxis.labelpad = 10"
   ]
  },
  {
   "cell_type": "markdown",
   "id": "d88daa10",
   "metadata": {},
   "source": [
    "## Use Ticker to plot directly from Yahoo Finance."
   ]
  },
  {
   "cell_type": "code",
   "execution_count": null,
   "id": "4dd628b2",
   "metadata": {},
   "outputs": [
    {
     "data": {
      "text/plain": [
       "<Axes: title={'center': \"APPLE's stock price\"}, xlabel='Date'>"
      ]
     },
     "execution_count": 4,
     "metadata": {},
     "output_type": "execute_result"
    }
   ],
   "source": [
    "ticker = yf.Ticker('AAPL')\n",
    "aapl_df_ticker = ticker.history(period=\"5y\")\n",
    "aapl_df_ticker['Close'].plot(title=\"APPLE's stock price\")"
   ]
  },
  {
   "cell_type": "markdown",
   "id": "f9a4f909",
   "metadata": {},
   "source": [
    "## Get access to the data and also store them in arrays.\n",
    "I want to obtain the same plot."
   ]
  },
  {
   "cell_type": "code",
   "execution_count": null,
   "id": "4e7f6349",
   "metadata": {
    "scrolled": false
   },
   "outputs": [],
   "source": [
    "# download the series, not necessary for the next step\n",
    "aapl_df = yf.download('AAPL',\n",
    "                      start='2019-01-01', \n",
    "                      #end='2021-06-12', \n",
    "                      progress=False,\n",
    ")\n",
    "print(f'{aapl_df.head()}')\n",
    "\n",
    "\n",
    "\n",
    "# store it as a pandas dataframe, to have it accessible as numpy arrays\n",
    "asset_aapl = pd.DataFrame( yf.download('AAPL', \n",
    "                      start='2019-01-01', \n",
    "                      #end='2021-06-12', \n",
    "                      progress=False)\n",
    ")\n",
    "print(f'{asset_aapl.head()}')"
   ]
  },
  {
   "cell_type": "code",
   "execution_count": null,
   "id": "2124ef09",
   "metadata": {},
   "outputs": [],
   "source": [
    "closing_price_aapl = asset_aapl.loc[:, 'Close']          # access the the dataframe\n",
    "asset_aapl['Date'] = pd.to_datetime(asset_aapl.index)    # store the date \n",
    "date_aapl = pd.to_datetime(asset_aapl.index)             # convert it to use it for computation, not essential\n",
    "\n",
    "print(f'Data spanning {(asset_aapl.Date.max() - asset_aapl.Date.min()).days} days, from {asset_aapl.Date.min()} to {asset_aapl.Date.max()}.')\n",
    "\n",
    "\n",
    "f, ax = plt.subplots(figsize = [6., 4.])\n",
    "plot_cosmetics_single()\n",
    "\n",
    "ax.set_title('APPLE`s Stock Price', fontsize=15)\n",
    "ax.plot(asset_aapl['Date'], closing_price_aapl)\n",
    "ax.xaxis.set_major_locator(YearLocator(1))\n",
    "ax.xaxis.set_major_formatter(DateFormatter(\"%Y\"))\n",
    "ax.xaxis.set_tick_params(rotation=45)\n",
    "ax.set_xlabel('Date', fontsize=15)"
   ]
  },
  {
   "cell_type": "code",
   "execution_count": null,
   "id": "b12b6ef3",
   "metadata": {},
   "outputs": [],
   "source": [
    "asset_aapl.info()\n",
    "asset_aapl[['Open', 'High', 'Low', 'Close', 'Adj Close']].plot(kind='box', fontsize=15)"
   ]
  },
  {
   "cell_type": "markdown",
   "id": "a3e53e60",
   "metadata": {},
   "source": [
    "## I want to make the plot interactive."
   ]
  },
  {
   "cell_type": "code",
   "execution_count": null,
   "id": "0527c0de",
   "metadata": {},
   "outputs": [],
   "source": [
    "iplot_layout = go.Layout(\n",
    "    title = 'Stock Prices of Apple',\n",
    "    xaxis = dict(\n",
    "        title='Date',\n",
    "        titlefont=dict(\n",
    "            family='Courier New, monospace',\n",
    "            size=18,\n",
    "            color='#7f7f7f'\n",
    "        )\n",
    "    ),\n",
    "    yaxis = dict(\n",
    "        title='Price',\n",
    "        titlefont=dict(\n",
    "            family='Courier New, monospace',\n",
    "            size=18,\n",
    "            color='#7f7f7f'\n",
    "        )\n",
    "    )\n",
    ")\n",
    "\n",
    "apple_data = [{ 'x' : asset_aapl['Date'], 'y' : asset_aapl['Close'] }]\n",
    "plot = go.Figure(data=apple_data, layout=iplot_layout)\n",
    "\n",
    "\n",
    "iplot(plot)"
   ]
  },
  {
   "cell_type": "code",
   "execution_count": null,
   "id": "18321828",
   "metadata": {},
   "outputs": [],
   "source": [
    "# build the regression model\n",
    "from sklearn.model_selection import train_test_split\n",
    "\n",
    "# preprocessing\n",
    "from sklearn.preprocessing import MinMaxScaler\n",
    "from sklearn.preprocessing import StandardScaler\n",
    "\n",
    "# model evaluation\n",
    "from sklearn.metrics import mean_squared_error as mse\n",
    "from sklearn.metrics import r2_score"
   ]
  },
  {
   "cell_type": "code",
   "execution_count": null,
   "id": "a82e09d8",
   "metadata": {},
   "outputs": [],
   "source": [
    "# the following line levels the multi-level column format downloaded from yfinance\n",
    "asset_aapl = asset_aapl.reset_index(level=None, drop=True, inplace=False, col_level=0, col_fill='')\n",
    "\n",
    "asset_aapl['Date'] = pd.to_datetime(asset_aapl['Date'])\n",
    "X = np.array(asset_aapl.index).reshape(-1,1)\n",
    "Y = asset_aapl['Close']\n",
    "X_train, X_test, Y_train, Y_test = train_test_split(X, Y, test_size=0.3, random_state=101)\n",
    "\n",
    "print(X.shape, Y.shape)"
   ]
  },
  {
   "cell_type": "code",
   "execution_count": null,
   "id": "9f255d68",
   "metadata": {},
   "outputs": [],
   "source": [
    "# check if the tickers are in one level\n",
    "print(asset_aapl['Date'])"
   ]
  },
  {
   "cell_type": "code",
   "execution_count": null,
   "id": "26fa962f",
   "metadata": {},
   "outputs": [],
   "source": [
    "scaler = StandardScaler().fit(X_train)"
   ]
  },
  {
   "cell_type": "code",
   "execution_count": null,
   "id": "a261c65c",
   "metadata": {},
   "outputs": [],
   "source": [
    "from sklearn.linear_model import LinearRegression"
   ]
  },
  {
   "cell_type": "code",
   "execution_count": null,
   "id": "7cd1684f",
   "metadata": {},
   "outputs": [],
   "source": [
    "# create a linear model\n",
    "lm = LinearRegression()\n",
    "lm.fit(X_train, Y_train)"
   ]
  },
  {
   "cell_type": "code",
   "execution_count": null,
   "id": "ff9081b5",
   "metadata": {},
   "outputs": [],
   "source": [
    "# Plot actual and predicted values for train dataset\n",
    "trace0 = go.Scatter(\n",
    "    x = X_train.T[0],\n",
    "    y = Y_train, \n",
    "    mode = 'markers',\n",
    "    name = 'Actual'\n",
    ")\n",
    "\n",
    "trace1 = go.Scatter(\n",
    "    x = X_train.T[0],\n",
    "    y = lm.predict(X_train).T,\n",
    "    mode = 'lines',\n",
    "    name = 'Predicted'\n",
    ")\n",
    "\n",
    "apple_data = [trace0, trace1]\n",
    "iplot_layout.xaxis.title.text = 'Day'\n",
    "plot2 = go.Figure(data=apple_data, layout=iplot_layout)"
   ]
  },
  {
   "cell_type": "code",
   "execution_count": null,
   "id": "32245295",
   "metadata": {},
   "outputs": [],
   "source": [
    "iplot(plot2)"
   ]
  },
  {
   "cell_type": "code",
   "execution_count": null,
   "id": "a642dff2",
   "metadata": {},
   "outputs": [],
   "source": []
  }
 ],
 "metadata": {
  "kernelspec": {
   "display_name": "Python 3 (ipykernel)",
   "language": "python",
   "name": "python3"
  },
  "language_info": {
   "codemirror_mode": {
    "name": "ipython",
    "version": 3
   },
   "file_extension": ".py",
   "mimetype": "text/x-python",
   "name": "python",
   "nbconvert_exporter": "python",
   "pygments_lexer": "ipython3",
   "version": "3.11.2"
  }
 },
 "nbformat": 4,
 "nbformat_minor": 5
}
